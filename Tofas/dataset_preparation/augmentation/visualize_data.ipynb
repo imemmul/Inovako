{
 "cells": [
  {
   "cell_type": "code",
   "execution_count": 43,
   "metadata": {},
   "outputs": [],
   "source": [
    "import os\n",
    "from data_augmentation import draw_annotations\n",
    "dataset_dir = \"/Users/emirulurak/Desktop/dev/Inovako_folders/dataset_tofas_v2/\"\n",
    "augment_dataset = \"/Users/emirulurak/Desktop/dev/Inovako_folders/augmented_dataset_tofas_v2/\""
   ]
  },
  {
   "cell_type": "code",
   "execution_count": 44,
   "metadata": {},
   "outputs": [
    {
     "data": {
      "text/plain": [
       "(3565, 666)"
      ]
     },
     "execution_count": 44,
     "metadata": {},
     "output_type": "execute_result"
    }
   ],
   "source": [
    "(len(os.listdir(augment_dataset+\"train/images/\")), len(os.listdir(augment_dataset+\"valid/images/\")))"
   ]
  },
  {
   "cell_type": "code",
   "execution_count": null,
   "metadata": {},
   "outputs": [],
   "source": [
    "for dir in os.listdir(augment_dataset+\"train/images/\"):\n",
    "    img_dir = os.path.join(augment_dataset+\"train/images/\", dir)\n",
    "    annot_dir = os.path.join(augment_dataset+\"train/labels/\", f\"{dir[:-3]}txt\")\n",
    "    draw_annotations(img_dir=img_dir, annot_dir=annot_dir, aug=False)"
   ]
  },
  {
   "cell_type": "code",
   "execution_count": 45,
   "metadata": {},
   "outputs": [
    {
     "data": {
      "text/plain": [
       "0.8425904041597732"
      ]
     },
     "execution_count": 45,
     "metadata": {},
     "output_type": "execute_result"
    }
   ],
   "source": [
    "3565 / (3565 + 666)"
   ]
  },
  {
   "cell_type": "code",
   "execution_count": null,
   "metadata": {},
   "outputs": [],
   "source": [
    "99 / (567 + 99)"
   ]
  },
  {
   "cell_type": "code",
   "execution_count": null,
   "metadata": {},
   "outputs": [],
   "source": [
    "import numpy as np\n",
    "import shutil"
   ]
  },
  {
   "cell_type": "code",
   "execution_count": null,
   "metadata": {},
   "outputs": [],
   "source": [
    "for i in range(30):\n",
    "    rnd_idx = np.random.randint(len(os.listdir(dataset_dir+\"valid/images/\")))\n",
    "    dir = os.listdir(dataset_dir+\"valid/images/\")[rnd_idx]\n",
    "    img_dir = os.path.join(f\"{dataset_dir}valid/images/\", dir)\n",
    "    annot_dir = os.path.join(f\"{dataset_dir}valid/labels/\", f\"{dir[:-3]}txt\")\n",
    "    shutil.move(src=img_dir, dst=f\"{dataset_dir}train/images/\")\n",
    "    shutil.move(src=annot_dir, dst=f\"{dataset_dir}train/labels/\")"
   ]
  },
  {
   "cell_type": "code",
   "execution_count": null,
   "metadata": {},
   "outputs": [],
   "source": []
  }
 ],
 "metadata": {
  "kernelspec": {
   "display_name": "mlp",
   "language": "python",
   "name": "python3"
  },
  "language_info": {
   "codemirror_mode": {
    "name": "ipython",
    "version": 3
   },
   "file_extension": ".py",
   "mimetype": "text/x-python",
   "name": "python",
   "nbconvert_exporter": "python",
   "pygments_lexer": "ipython3",
   "version": "3.10.8"
  },
  "orig_nbformat": 4
 },
 "nbformat": 4,
 "nbformat_minor": 2
}
