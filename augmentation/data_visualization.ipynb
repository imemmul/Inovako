{
 "cells": [
  {
   "cell_type": "code",
   "execution_count": null,
   "metadata": {},
   "outputs": [],
   "source": [
    "DATASET_DIR = \"../dataset/train/\"\n",
    "import os\n",
    "print(len(os.listdir(DATASET_DIR)))\n",
    "from Inovako.augmentation.data_augmentation import draw_annotations\n",
    "img_dir = \"/Users/emirulurak/Desktop/dev/Inovako_folders/augmented_dataset/train/images/\"\n",
    "label_dir = \"/Users/emirulurak/Desktop/dev/Inovako_folders/augmented_dataset/train/labels/\"\n",
    "ori_img_dir = \"../dataset/train/images/\"\n",
    "ori_annot_dir = \"../dataset/train/labels/\"\n",
    "img_dir, label_dir\n",
    "from Inovako.augmentation.data_augmentation import draw_annotations\n",
    "img = \"/Users/emirulurak/Desktop/dev/Inovako_folders/augmented_dataset/train/images/aug_80_Image__2023-03-24__05-41-28-93kg1_bmp.rf.b715f5f5cd3fa5b059c7de18598bdaec.jpg\"\n",
    "label = \"/Users/emirulurak/Desktop/dev/Inovako_folders/augmented_dataset/train/labels/aug_80_Image__2023-03-24__05-41-28-93kg1_bmp.rf.b715f5f5cd3fa5b059c7de18598bdaec.txt\"\n",
    "draw_annotations(img_dir=img, annot_dir=label, aug=True)\n",
    "# draw_annotations(img_dir=ori_img_dir, annot_dir=ori_annot_dir)\n",
    "import time\n",
    "for dir in os.listdir(img_dir):\n",
    "    img = os.path.join(img_dir, dir)\n",
    "    label = os.path.join(label_dir, dir[:-3]+\"txt\")\n",
    "    ori_img = os.path.join(ori_img_dir, dir[4:])\n",
    "    ori_label = os.path.join(ori_annot_dir, dir[4:][:-3]+\"txt\")\n",
    "    draw_annotations(img_dir=img, annot_dir=label, aug=True)\n",
    "    draw_annotations(img_dir=ori_img, annot_dir=ori_label, aug=False)\n",
    "    time.sleep(1)"
   ]
  }
 ],
 "metadata": {
  "language_info": {
   "name": "python"
  },
  "orig_nbformat": 4
 },
 "nbformat": 4,
 "nbformat_minor": 2
}
