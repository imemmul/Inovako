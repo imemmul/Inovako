{
 "cells": [
  {
   "cell_type": "code",
   "execution_count": null,
   "metadata": {},
   "outputs": [],
   "source": [
    "DATASET_DIR = \"../dataset/train/\"\n",
    "import os\n",
    "print(len(os.listdir(DATASET_DIR)))\n",
    "from data_augmentation import draw_annotations\n",
    "img_dir = \"/home/emir/Desktop/dev/Inovako/projet_secret/augmented_dataset/train/images/\"\n",
    "label_dir = \"/home/emir/Desktop/dev/Inovako/projet_secret/augmented_dataset/train/labels/\"\n",
    "ori_img_dir = \"../dataset/train/images/\"\n",
    "ori_annot_dir = \"../dataset/train/labels/\"\n",
    "img_dir, label_dir\n",
    "img = \"/home/emir/Desktop/dev/Inovako/projet_secret/augmented_dataset/train/images/aug_357_v2-2-2-_bmp.rf.a6319e97b2af489206fd056d9f7f6c15.jpg\"\n",
    "label = \"/home/emir/Desktop/dev/Inovako/projet_secret/augmented_dataset/train/labels/aug_357_v2-2-2-_bmp.rf.a6319e97b2af489206fd056d9f7f6c15.txt\"\n",
    "# draw_annotations(img_dir=ori_img_dir, annot_dir=ori_annot_dir)\n",
    "import time\n",
    "# for dir in os.listdir(img_dir):\n",
    "#     img = os.path.join(img_dir, dir)\n",
    "#     label = os.path.join(label_dir, dir[:-3]+\"txt\")\n",
    "#     ori_img = os.path.join(ori_img_dir, dir[4:])\n",
    "#     ori_label = os.path.join(ori_annot_dir, dir[4:][:-3]+\"txt\")\n",
    "#     draw_annotations(img_dir=img, annot_dir=label, aug=True)\n",
    "#     draw_annotations(img_dir=ori_img, annot_dir=ori_label, aug=False)\n",
    "#     time.sleep(1)\n",
    "draw_annotations(img_dir=img, annot_dir=label, aug=True)"
   ]
  },
  {
   "cell_type": "code",
   "execution_count": null,
   "metadata": {},
   "outputs": [],
   "source": []
  }
 ],
 "metadata": {
  "kernelspec": {
   "display_name": "mlptorch",
   "language": "python",
   "name": "python3"
  },
  "language_info": {
   "codemirror_mode": {
    "name": "ipython",
    "version": 3
   },
   "file_extension": ".py",
   "mimetype": "text/x-python",
   "name": "python",
   "nbconvert_exporter": "python",
   "pygments_lexer": "ipython3",
   "version": "3.10.6"
  },
  "orig_nbformat": 4
 },
 "nbformat": 4,
 "nbformat_minor": 2
}
